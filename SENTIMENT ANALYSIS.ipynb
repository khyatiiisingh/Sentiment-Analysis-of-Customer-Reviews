{
 "cells": [
  {
   "cell_type": "code",
   "execution_count": 39,
   "id": "d2781ec2",
   "metadata": {},
   "outputs": [
    {
     "name": "stderr",
     "output_type": "stream",
     "text": [
      "[nltk_data] Downloading package punkt to C:\\Users\\khyati\n",
      "[nltk_data]     singh\\AppData\\Roaming\\nltk_data...\n",
      "[nltk_data]   Package punkt is already up-to-date!\n",
      "[nltk_data] Downloading package stopwords to C:\\Users\\khyati\n",
      "[nltk_data]     singh\\AppData\\Roaming\\nltk_data...\n",
      "[nltk_data]   Package stopwords is already up-to-date!\n",
      "[nltk_data] Downloading package wordnet to C:\\Users\\khyati\n",
      "[nltk_data]     singh\\AppData\\Roaming\\nltk_data...\n",
      "[nltk_data]   Package wordnet is already up-to-date!\n",
      "[nltk_data] Downloading package omw-1.4 to C:\\Users\\khyati\n",
      "[nltk_data]     singh\\AppData\\Roaming\\nltk_data...\n",
      "[nltk_data]   Package omw-1.4 is already up-to-date!\n"
     ]
    },
    {
     "data": {
      "text/plain": [
       "True"
      ]
     },
     "execution_count": 39,
     "metadata": {},
     "output_type": "execute_result"
    }
   ],
   "source": [
    "#import pandas for data manipulation\n",
    "import pandas as pd\n",
    "#for numerical computations\n",
    "import numpy as np\n",
    "#for creating visualizations\n",
    "import matplotlib.pyplot as plt \n",
    "#for advanced data visualization with more appealing charts\n",
    "import seaborn as sns\n",
    "\n",
    "#gives a grid-based design\n",
    "plt.style.use('ggplot')\n",
    "#importing Natural Language Toolkit  for text processing tasks like tokenization, stopwords, lemmatization, etc.\n",
    "import nltk\n",
    "nltk.download('punkt')\n",
    "nltk.download('stopwords')  # For stopwords\n",
    "nltk.download('wordnet')  # For lemmatization\n",
    "from collections import Counter #for frequency analysis\n",
    "from nltk.corpus import stopwords\n",
    "from nltk.tokenize import word_tokenize, RegexpTokenizer\n",
    "from nltk.stem import WordNetLemmatizer\n",
    "nltk.download('omw-1.4')"
   ]
  },
  {
   "cell_type": "code",
   "execution_count": 19,
   "id": "434cf4af",
   "metadata": {},
   "outputs": [],
   "source": [
    "# Read in data\n",
    "df = pd.read_csv('Reviews.csv')"
   ]
  },
  {
   "cell_type": "code",
   "execution_count": 20,
   "id": "915fee3b",
   "metadata": {},
   "outputs": [
    {
     "name": "stdout",
     "output_type": "stream",
     "text": [
      "(568454, 10)\n"
     ]
    }
   ],
   "source": [
    "print(df.shape) #to check no. of rows and columns"
   ]
  },
  {
   "cell_type": "code",
   "execution_count": 21,
   "id": "741cd66e",
   "metadata": {},
   "outputs": [
    {
     "data": {
      "text/html": [
       "<div>\n",
       "<style scoped>\n",
       "    .dataframe tbody tr th:only-of-type {\n",
       "        vertical-align: middle;\n",
       "    }\n",
       "\n",
       "    .dataframe tbody tr th {\n",
       "        vertical-align: top;\n",
       "    }\n",
       "\n",
       "    .dataframe thead th {\n",
       "        text-align: right;\n",
       "    }\n",
       "</style>\n",
       "<table border=\"1\" class=\"dataframe\">\n",
       "  <thead>\n",
       "    <tr style=\"text-align: right;\">\n",
       "      <th></th>\n",
       "      <th>Id</th>\n",
       "      <th>ProductId</th>\n",
       "      <th>UserId</th>\n",
       "      <th>ProfileName</th>\n",
       "      <th>HelpfulnessNumerator</th>\n",
       "      <th>HelpfulnessDenominator</th>\n",
       "      <th>Score</th>\n",
       "      <th>Time</th>\n",
       "      <th>Summary</th>\n",
       "      <th>Text</th>\n",
       "    </tr>\n",
       "  </thead>\n",
       "  <tbody>\n",
       "    <tr>\n",
       "      <th>0</th>\n",
       "      <td>1</td>\n",
       "      <td>B001E4KFG0</td>\n",
       "      <td>A3SGXH7AUHU8GW</td>\n",
       "      <td>delmartian</td>\n",
       "      <td>1</td>\n",
       "      <td>1</td>\n",
       "      <td>5</td>\n",
       "      <td>1303862400</td>\n",
       "      <td>Good Quality Dog Food</td>\n",
       "      <td>I have bought several of the Vitality canned d...</td>\n",
       "    </tr>\n",
       "    <tr>\n",
       "      <th>1</th>\n",
       "      <td>2</td>\n",
       "      <td>B00813GRG4</td>\n",
       "      <td>A1D87F6ZCVE5NK</td>\n",
       "      <td>dll pa</td>\n",
       "      <td>0</td>\n",
       "      <td>0</td>\n",
       "      <td>1</td>\n",
       "      <td>1346976000</td>\n",
       "      <td>Not as Advertised</td>\n",
       "      <td>Product arrived labeled as Jumbo Salted Peanut...</td>\n",
       "    </tr>\n",
       "    <tr>\n",
       "      <th>2</th>\n",
       "      <td>3</td>\n",
       "      <td>B000LQOCH0</td>\n",
       "      <td>ABXLMWJIXXAIN</td>\n",
       "      <td>Natalia Corres \"Natalia Corres\"</td>\n",
       "      <td>1</td>\n",
       "      <td>1</td>\n",
       "      <td>4</td>\n",
       "      <td>1219017600</td>\n",
       "      <td>\"Delight\" says it all</td>\n",
       "      <td>This is a confection that has been around a fe...</td>\n",
       "    </tr>\n",
       "    <tr>\n",
       "      <th>3</th>\n",
       "      <td>4</td>\n",
       "      <td>B000UA0QIQ</td>\n",
       "      <td>A395BORC6FGVXV</td>\n",
       "      <td>Karl</td>\n",
       "      <td>3</td>\n",
       "      <td>3</td>\n",
       "      <td>2</td>\n",
       "      <td>1307923200</td>\n",
       "      <td>Cough Medicine</td>\n",
       "      <td>If you are looking for the secret ingredient i...</td>\n",
       "    </tr>\n",
       "    <tr>\n",
       "      <th>4</th>\n",
       "      <td>5</td>\n",
       "      <td>B006K2ZZ7K</td>\n",
       "      <td>A1UQRSCLF8GW1T</td>\n",
       "      <td>Michael D. Bigham \"M. Wassir\"</td>\n",
       "      <td>0</td>\n",
       "      <td>0</td>\n",
       "      <td>5</td>\n",
       "      <td>1350777600</td>\n",
       "      <td>Great taffy</td>\n",
       "      <td>Great taffy at a great price.  There was a wid...</td>\n",
       "    </tr>\n",
       "  </tbody>\n",
       "</table>\n",
       "</div>"
      ],
      "text/plain": [
       "   Id   ProductId          UserId                      ProfileName  \\\n",
       "0   1  B001E4KFG0  A3SGXH7AUHU8GW                       delmartian   \n",
       "1   2  B00813GRG4  A1D87F6ZCVE5NK                           dll pa   \n",
       "2   3  B000LQOCH0   ABXLMWJIXXAIN  Natalia Corres \"Natalia Corres\"   \n",
       "3   4  B000UA0QIQ  A395BORC6FGVXV                             Karl   \n",
       "4   5  B006K2ZZ7K  A1UQRSCLF8GW1T    Michael D. Bigham \"M. Wassir\"   \n",
       "\n",
       "   HelpfulnessNumerator  HelpfulnessDenominator  Score        Time  \\\n",
       "0                     1                       1      5  1303862400   \n",
       "1                     0                       0      1  1346976000   \n",
       "2                     1                       1      4  1219017600   \n",
       "3                     3                       3      2  1307923200   \n",
       "4                     0                       0      5  1350777600   \n",
       "\n",
       "                 Summary                                               Text  \n",
       "0  Good Quality Dog Food  I have bought several of the Vitality canned d...  \n",
       "1      Not as Advertised  Product arrived labeled as Jumbo Salted Peanut...  \n",
       "2  \"Delight\" says it all  This is a confection that has been around a fe...  \n",
       "3         Cough Medicine  If you are looking for the secret ingredient i...  \n",
       "4            Great taffy  Great taffy at a great price.  There was a wid...  "
      ]
     },
     "execution_count": 21,
     "metadata": {},
     "output_type": "execute_result"
    }
   ],
   "source": [
    "df.head()"
   ]
  },
  {
   "cell_type": "code",
   "execution_count": 28,
   "id": "0fd73c84",
   "metadata": {},
   "outputs": [],
   "source": [
    "# Initialize the lemmatizer\n",
    "lemmatizer = WordNetLemmatizer()\n"
   ]
  },
  {
   "cell_type": "code",
   "execution_count": 29,
   "id": "a9100829",
   "metadata": {},
   "outputs": [],
   "source": [
    "# Remove stopwords and clean the text\n",
    "stop_words = set(stopwords.words('english'))  # Set of English stopwords\n",
    "tokenizer = RegexpTokenizer(r'\\w+')  # Tokenizer that removes all non-alphanumeric characters\n"
   ]
  },
  {
   "cell_type": "code",
   "execution_count": 30,
   "id": "f039d6d3",
   "metadata": {},
   "outputs": [],
   "source": [
    "def preprocess_text(text): # to apply this preprocessing to each review text in the Text column\n",
    "    # Tokenize the text\n",
    "    tokens = word_tokenize(text)"
   ]
  },
  {
   "cell_type": "code",
   "execution_count": 35,
   "id": "41042433",
   "metadata": {},
   "outputs": [],
   "source": [
    "def preprocess_text(text): # to apply this preprocessing to each review text in the Text column\n",
    "    # Tokenize the text\n",
    "    tokens = word_tokenize(text)  \n",
    "    # Remove stopwords\n",
    "    tokens_no_stopwords = [word for word in tokens if word.lower() not in stop_words]\n",
    "    # Remove punctuation and special characters\n",
    "    tokens_clean = tokenizer.tokenize(' '.join(tokens_no_stopwords))\n",
    "    # Lemmatization\n",
    "    tokens_lemmatized = [lemmatizer.lemmatize(word) for word in tokens_clean]\n",
    "    return ' '.join(tokens_lemmatized)  # Return the cleaned, tokenized, and lemmatized text"
   ]
  },
  {
   "cell_type": "code",
   "execution_count": 36,
   "id": "497522b4",
   "metadata": {},
   "outputs": [
    {
     "name": "stdout",
     "output_type": "stream",
     "text": [
      "                                                     Text  \\\n",
      "0       I have bought several of the Vitality canned d...   \n",
      "1       Product arrived labeled as Jumbo Salted Peanut...   \n",
      "2       This is a confection that has been around a fe...   \n",
      "3       If you are looking for the secret ingredient i...   \n",
      "4       Great taffy at a great price.  There was a wid...   \n",
      "...                                                   ...   \n",
      "568449  Great for sesame chicken..this is a good if no...   \n",
      "568450  I'm disappointed with the flavor. The chocolat...   \n",
      "568451  These stars are small, so you can give 10-15 o...   \n",
      "568452  These are the BEST treats for training and rew...   \n",
      "568453  I am very satisfied ,product is as advertised,...   \n",
      "\n",
      "                                             Cleaned_Text  \n",
      "0       bought several Vitality canned dog food produc...  \n",
      "1       Product arrived labeled Jumbo Salted Peanuts p...  \n",
      "2       confection around century light pillowy citrus...  \n",
      "3       looking secret ingredient Robitussin believe f...  \n",
      "4       Great taffy great price wide assortment yummy ...  \n",
      "...                                                   ...  \n",
      "568449  Great sesame chicken good better resturants ea...  \n",
      "568450  m disappointed flavor chocolate note especiall...  \n",
      "568451  star small give 10 15 one training session tri...  \n",
      "568452  BEST treat training rewarding dog good groomin...  \n",
      "568453  satisfied product advertised use cereal raw vi...  \n",
      "\n",
      "[568454 rows x 2 columns]\n"
     ]
    }
   ],
   "source": [
    "# Apply the function to the 'Text' column\n",
    "df['Cleaned_Text'] = df['Text'].apply(preprocess_text)\n",
    "\n",
    "# Show the resulting cleaned data\n",
    "print(df[['Text', 'Cleaned_Text']])"
   ]
  },
  {
   "cell_type": "code",
   "execution_count": 37,
   "id": "78d45c87",
   "metadata": {},
   "outputs": [
    {
     "data": {
      "image/png": "[encoded data removed]",
      "text/plain": [
       "<Figure size 1000x500 with 1 Axes>"
      ]
     },
     "metadata": {},
     "output_type": "display_data"
    }
   ],
   "source": [
    "#count the occurrences of each unique value in the 'Score' column,\n",
    "# sort the result by the index (stars), and plot it as a bar chart.\n",
    "\n",
    "# get the counts of each unique star rating in the 'Score' column and sort by the index (stars)\n",
    "ax = df['Score'].value_counts().sort_index() \\\n",
    "    .plot(kind='bar',  # Create a bar chart\n",
    "          title='Count of Reviews by Stars',  # Set the title of the plot\n",
    "          figsize=(10, 5))  # Set the figure size (width=10, height=5)\n",
    "\n",
    "# Set the label for the x-axis (the stars of the review)\n",
    "ax.set_xlabel('Review Stars')\n",
    "\n",
    "# Display the plot\n",
    "plt.show()\n"
   ]
  },
  {
   "cell_type": "code",
   "execution_count": 40,
   "id": "9b253cec",
   "metadata": {},
   "outputs": [],
   "source": [
    "# Tokenizing the cleaned text data (you can use the 'Cleaned_Text' column)\n",
    "all_words = ' '.join(df['Cleaned_Text']).split()  # Join all texts and split into words\n",
    "\n",
    "#Word Frequency Analysis\n",
    "word_freq = Counter(all_words)  # Count frequency of each word\n",
    "\n",
    "# Get the 10 most common words\n",
    "most_common_words = word_freq.most_common(10)\n"
   ]
  },
  {
   "cell_type": "code",
   "execution_count": 41,
   "id": "281f3f27",
   "metadata": {},
   "outputs": [],
   "source": [
    "#plotting a Bar Chart of the Most Frequent Words\n",
    "# Convert the most common words into two lists (words and their frequencies)\n",
    "words, frequencies = zip(*most_common_words)\n"
   ]
  },
  {
   "cell_type": "code",
   "execution_count": 42,
   "id": "5b3f49ef",
   "metadata": {},
   "outputs": [
    {
     "data": {
      "image/png": "[encoded data removed]",
      "text/plain": [
       "<Figure size 1000x500 with 1 Axes>"
      ]
     },
     "metadata": {},
     "output_type": "display_data"
    }
   ],
   "source": [
    "# Plot a bar chart\n",
    "plt.figure(figsize=(10, 5))\n",
    "sns.barplot(x=list(words), y=list(frequencies), palette='viridis')\n",
    "plt.title('Top 10 Most Frequent Words')\n",
    "plt.xlabel('Words')\n",
    "plt.ylabel('Frequency')\n",
    "plt.xticks(rotation=45)\n",
    "plt.show()"
   ]
  },
  {
   "cell_type": "markdown",
   "id": "cb8b44e3",
   "metadata": {},
   "source": [
    "#SENTIMENT ANALYSIS (VADER)"
   ]
  },
  {
   "cell_type": "code",
   "execution_count": 46,
   "id": "8a597cdc",
   "metadata": {},
   "outputs": [
    {
     "name": "stderr",
     "output_type": "stream",
     "text": [
      "[nltk_data] Downloading package vader_lexicon to C:\\Users\\khyati\n",
      "[nltk_data]     singh\\AppData\\Roaming\\nltk_data...\n"
     ]
    },
    {
     "data": {
      "text/plain": [
       "True"
      ]
     },
     "execution_count": 46,
     "metadata": {},
     "output_type": "execute_result"
    }
   ],
   "source": [
    "nltk.download('vader_lexicon') ## Downloads the VADER lexicon which is required by the SentimentIntensityAnalyzer for sentiment analysis."
   ]
  },
  {
   "cell_type": "code",
   "execution_count": 49,
   "id": "32f28fee",
   "metadata": {},
   "outputs": [],
   "source": [
    "# Initialize the SentimentIntensityAnalyzer (VADER)\n",
    "sia = SentimentIntensityAnalyzer()"
   ]
  },
  {
   "cell_type": "code",
   "execution_count": 50,
   "id": "0d80dd03",
   "metadata": {},
   "outputs": [],
   "source": [
    "# function to get sentiment score using VADER\n",
    "def get_sentiment_score(text):\n",
    "    sentiment = sia.polarity_scores(text)  # Get polarity scores\n",
    "    return sentiment['compound']  # Return the compound score"
   ]
  },
  {
   "cell_type": "code",
   "execution_count": 51,
   "id": "6c4104a2",
   "metadata": {},
   "outputs": [],
   "source": [
    "#appply sentiment analysis on the 'Cleaned_Text' column\n",
    "df['Sentiment_Score'] = df['Cleaned_Text'].apply(get_sentiment_score)"
   ]
  },
  {
   "cell_type": "code",
   "execution_count": 52,
   "id": "5443f5fb",
   "metadata": {},
   "outputs": [],
   "source": [
    "# Create a new column to classify sentiment based on the compound score\n",
    "# Sentiment interpretation:\n",
    "  # Positive sentiment (compound score > 0.05)\n",
    "  # Neutral sentiment (compound score between -0.05 and 0.05)\n",
    "  # Negative sentiment (compound score < -0.05)\n",
    "df['Sentiment'] = df['Sentiment_Score'].apply(lambda score: 'Positive' if score > 0.05 else ('Negative' if score < -0.05 else 'Neutral'))\n"
   ]
  },
  {
   "cell_type": "code",
   "execution_count": 53,
   "id": "f4864484",
   "metadata": {},
   "outputs": [
    {
     "name": "stdout",
     "output_type": "stream",
     "text": [
      "                                                Text  Sentiment_Score  \\\n",
      "0  I have bought several of the Vitality canned d...           0.9413   \n",
      "1  Product arrived labeled as Jumbo Salted Peanut...          -0.1027   \n",
      "2  This is a confection that has been around a fe...           0.8624   \n",
      "3  If you are looking for the secret ingredient i...           0.4404   \n",
      "4  Great taffy at a great price.  There was a wid...           0.9468   \n",
      "\n",
      "  Sentiment  \n",
      "0  Positive  \n",
      "1  Negative  \n",
      "2  Positive  \n",
      "3  Positive  \n",
      "4  Positive  \n"
     ]
    }
   ],
   "source": [
    "# Display the first few rows of the sentiment analysis result\n",
    "print(df[['Text', 'Sentiment_Score', 'Sentiment']].head())"
   ]
  },
  {
   "cell_type": "code",
   "execution_count": 55,
   "id": "1597dc52",
   "metadata": {},
   "outputs": [],
   "source": [
    "#visualizing the sentiment distribution\n",
    "# Count the number of positive, negative, and neutral reviews\n",
    "sentiment_counts = df['Sentiment'].value_counts()\n"
   ]
  },
  {
   "cell_type": "code",
   "execution_count": 56,
   "id": "ac985642",
   "metadata": {},
   "outputs": [
    {
     "data": {
      "image/png": "[encoded data removed]",
      "text/plain": [
       "<Figure size 800x600 with 1 Axes>"
      ]
     },
     "metadata": {},
     "output_type": "display_data"
    }
   ],
   "source": [
    "# Plot a bar chart showing the sentiment distribution\n",
    "plt.figure(figsize=(8, 6))\n",
    "sns.barplot(x=sentiment_counts.index, y=sentiment_counts.values, palette='Set2')\n",
    "plt.title('Sentiment Distribution of Reviews')\n",
    "plt.xlabel('Sentiment')\n",
    "plt.ylabel('Count')\n",
    "plt.show()"
   ]
  },
  {
   "cell_type": "code",
   "execution_count": 57,
   "id": "7ea0f739",
   "metadata": {},
   "outputs": [
    {
     "name": "stdout",
     "output_type": "stream",
     "text": [
      "\n",
      "Sentiment Analysis Summary (in percentage):\n",
      "Positive    91.428682\n",
      "Negative     6.693066\n",
      "Neutral      1.878252\n",
      "Name: Sentiment, dtype: float64\n"
     ]
    }
   ],
   "source": [
    "#summary of the sentiment Results\n",
    "sentiment_summary = sentiment_counts / len(df) * 100  # Calculate percentage of each sentiment\n",
    "print(\"\\nSentiment Analysis Summary (in percentage):\")\n",
    "print(sentiment_summary)"
   ]
  },
  {
   "cell_type": "code",
   "execution_count": null,
   "id": "092532bf",
   "metadata": {},
   "outputs": [],
   "source": []
  }
 ],
 "metadata": {
  "kernelspec": {
   "display_name": "Python 3 (ipykernel)",
   "language": "python",
   "name": "python3"
  },
  "language_info": {
   "codemirror_mode": {
    "name": "ipython",
    "version": 3
   },
   "file_extension": ".py",
   "mimetype": "text/x-python",
   "name": "python",
   "nbconvert_exporter": "python",
   "pygments_lexer": "ipython3",
   "version": "3.10.9"
  }
 },
 "nbformat": 4,
 "nbformat_minor": 5
}
